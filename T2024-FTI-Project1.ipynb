{
 "cells": [
  {
   "cell_type": "code",
   "execution_count": 1,
   "metadata": {},
   "outputs": [],
   "source": [
    "# IMPORTANT!!!\n",
    "# Desar la pràctica posant els NIUs i noms dels membres del grup\n",
    "# És imprescindible que el worksheet es pugui avaluar completament (Cell->Run All) sense que es produeixi cap error de sintaxi. \n",
    "# Cal lliurar el worksheet ABANS de finalitzar la vostra sessió de pràctiques.\n",
    "# No s'avaluaran worksheets que no compleixin els requisits anteriors.\n",
    "\n",
    "NIU_ESTUDIANT_1 = \"1668213\"\n",
    "NOM_ESTUDIANT_1 = \"Manel Andreu Vidal\"\n",
    "\n",
    "NIU_ESTUDIANT_2 = \"\"\n",
    "NOM_ESTUDIANT_2 = \"\"\n",
    "\n",
    "from sage.all import *"
   ]
  },
  {
   "cell_type": "code",
   "execution_count": 2,
   "metadata": {},
   "outputs": [
    {
     "name": "stdout",
     "output_type": "stream",
     "text": [
      "True\n",
      "True\n",
      "False\n"
     ]
    }
   ],
   "source": [
    "def UAB_divisible_by_7(a):\n",
    "    numbers = [0, 7, 14, 21, 28, 35, 42, 49, 56, 63, 70]\n",
    "    a = abs(a)\n",
    "    \n",
    "    while a > 70:\n",
    "        last_digit = a % 10\n",
    "        a = (a // 10) - (2 * last_digit)\n",
    "    \n",
    "    return abs(a) in numbers\n",
    "\n",
    "# Tests\n",
    "print(UAB_divisible_by_7(441)) # True\n",
    "print(UAB_divisible_by_7(833)) # True\n",
    "print(UAB_divisible_by_7(318)) # False"
   ]
  },
  {
   "cell_type": "code",
   "execution_count": 3,
   "metadata": {},
   "outputs": [
    {
     "name": "stdout",
     "output_type": "stream",
     "text": [
      "True\n",
      "True\n",
      "False\n"
     ]
    }
   ],
   "source": [
    "def UAB_divisible_by_13(a):\n",
    "    numbers = [0, 13, 26, 39, 52, 65, 78, 91]\n",
    "    a = abs(a)\n",
    "    \n",
    "    while a > 99:\n",
    "        last_digit = a % 10\n",
    "        a = (a // 10) + (4 * last_digit)  # 4 ≡ -9 mod 13\n",
    "    \n",
    "    return abs(a) in numbers\n",
    "\n",
    "# Tests\n",
    "print(UAB_divisible_by_13(793)) # True\n",
    "print(UAB_divisible_by_13(598)) # True\n",
    "print(UAB_divisible_by_13(921)) # False"
   ]
  },
  {
   "cell_type": "code",
   "execution_count": 4,
   "metadata": {},
   "outputs": [
    {
     "name": "stdout",
     "output_type": "stream",
     "text": [
      "[24, -8, 11]\n",
      "24\n",
      "[13, -54, 65]\n",
      "13\n"
     ]
    }
   ],
   "source": [
    "def UAB_extended_gcd(m,n):\n",
    "    old_r, r = m, n\n",
    "    old_s, s = 1, 0\n",
    "    old_t, t = 0, 1\n",
    "    \n",
    "    while r != 0:\n",
    "        quotient = old_r // r\n",
    "        old_r, r = r, old_r - quotient * r\n",
    "        old_s, s = s, old_s - quotient * s\n",
    "        old_t, t = t, old_t - quotient * t\n",
    "    \n",
    "    if old_r < 0:\n",
    "        old_r, old_s, old_t = -old_r, -old_s, -old_t\n",
    "    \n",
    "    return [old_r, old_s, old_t]\n",
    "\n",
    "# Tests\n",
    "llista = UAB_extended_gcd(624,456)\n",
    "print (llista) # [24, -8, 11]\n",
    "print (llista[1]*624+llista[2]*456) # 24\n",
    "\n",
    "llista = UAB_extended_gcd(2613,2171)\n",
    "print (llista) # [13, -54, 65]\n",
    "print (llista[1]*2613+llista[2]*2171) # 13\n"
   ]
  },
  {
   "cell_type": "code",
   "execution_count": 5,
   "metadata": {},
   "outputs": [
    {
     "name": "stdout",
     "output_type": "stream",
     "text": [
      "7\n"
     ]
    }
   ],
   "source": [
    "def UAB_inverse_modulo(a,p):\n",
    "    gcd_result, x, y = UAB_extended_gcd(a, p)\n",
    "    if gcd_result != 1:\n",
    "        return None\n",
    "    \n",
    "    return x % p\n",
    "\n",
    "# Tests\n",
    "print (UAB_inverse_modulo(574,13)) # 7"
   ]
  },
  {
   "cell_type": "code",
   "execution_count": 6,
   "metadata": {
    "scrolled": true
   },
   "outputs": [
    {
     "name": "stdout",
     "output_type": "stream",
     "text": [
      "[x + 1, x + 2, 2*x + 1, 2*x + 2]\n",
      "[x + 1, 2*x + 2, x^2 + 2*x + 2, 2*x^2 + x + 1]\n"
     ]
    }
   ],
   "source": [
    "def UAB_zero_divisors(mx):\n",
    "    R = mx.parent()\n",
    "    zero_divisors = []\n",
    "    \n",
    "    for degree in range(mx.degree()):\n",
    "        for p in R.polynomials(of_degree=degree):\n",
    "            if p == 0:\n",
    "                continue\n",
    "                \n",
    "            gcd_p = UAB_extended_gcd(p, mx)[0]\n",
    "            \n",
    "            if gcd_p.degree() > 0 and gcd_p not in zero_divisors:\n",
    "                zero_divisors.append(gcd_p)\n",
    "    \n",
    "    return zero_divisors\n",
    "\n",
    "# Tests:\n",
    "Z3X.<x> = PolynomialRing(GF(3))\n",
    "\n",
    "mx=Z3X(2*x**2 + 1)\n",
    "print (UAB_zero_divisors(mx))\n",
    "# [x + 1, x + 2, 2*x + 1, 2*x + 2]\n",
    "\n",
    "mx=Z3X(2*x**3 + 2*x + 1)\n",
    "print (UAB_zero_divisors(mx))\n",
    "# [x + 1, 2*x + 2, x^2 + 2, x^2 + x, x^2 + 2*x + 1, x^2 + 2*x + 2,\n",
    "#  2*x^2 + 1, 2*x^2 + x + 1, 2*x^2 + x + 2, 2*x^2 + 2*x]\n"
   ]
  },
  {
   "cell_type": "code",
   "execution_count": 7,
   "metadata": {},
   "outputs": [
    {
     "name": "stdout",
     "output_type": "stream",
     "text": [
      "True\n",
      "False\n"
     ]
    }
   ],
   "source": [
    "def UAB_is_field(mx):\n",
    "    return len(UAB_zero_divisors(mx)) == 0\n",
    "    \n",
    "# Tests:\n",
    "Z3X.<x>=PolynomialRing(GF(3))\n",
    "\n",
    "mx=Z3X(2*x^3 + x^2 + 2)\n",
    "print (UAB_is_field(mx)) # True\n",
    "\n",
    "mx=Z3X(2*x^3 + 2*x + 1)\n",
    "print (UAB_is_field(mx)) # False"
   ]
  }
 ],
 "metadata": {
  "kernelspec": {
   "display_name": "Sagemath",
   "language": "python",
   "name": "sagemath"
  },
  "language_info": {
   "codemirror_mode": {
    "name": "ipython",
    "version": 3
   },
   "file_extension": ".py",
   "mimetype": "text/x-python",
   "name": "python",
   "nbconvert_exporter": "python",
   "pygments_lexer": "ipython3",
   "version": "3.8.10"
  }
 },
 "nbformat": 4,
 "nbformat_minor": 4
}
